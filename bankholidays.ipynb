{
 "cells": [
  {
   "cell_type": "code",
   "execution_count": 29,
   "id": "e44dfba0",
   "metadata": {
    "ExecuteTime": {
     "end_time": "2021-04-15T15:30:20.485366Z",
     "start_time": "2021-04-15T15:30:20.483149Z"
    }
   },
   "outputs": [],
   "source": [
    "from datetime import date\n",
    "import holidays\n",
    "import pandas as pd"
   ]
  },
  {
   "cell_type": "code",
   "execution_count": 30,
   "id": "39375d8b",
   "metadata": {
    "ExecuteTime": {
     "end_time": "2021-04-15T15:30:20.740061Z",
     "start_time": "2021-04-15T15:30:20.737216Z"
    }
   },
   "outputs": [],
   "source": [
    "years_list = [2015, 2016, 2017, 2018, 2019, 2020, 2021] # List of years to include in the DF\n",
    "countries = [\"Germany\", \"Austria\", \"Switzerland\", \"Poland\", \"Belgium\", \"Netherlands\", \"Spain\", \"Italy\", \"France\", \"UnitedKingdom\", \"Sweden\", \"Denmark\", \"Finland\", \"Norway\"]"
   ]
  },
  {
   "cell_type": "code",
   "execution_count": 31,
   "id": "fad49c82",
   "metadata": {
    "ExecuteTime": {
     "end_time": "2021-04-15T15:30:21.196148Z",
     "start_time": "2021-04-15T15:30:21.189316Z"
    }
   },
   "outputs": [
    {
     "data": {
      "text/html": [
       "<div>\n",
       "<style scoped>\n",
       "    .dataframe tbody tr th:only-of-type {\n",
       "        vertical-align: middle;\n",
       "    }\n",
       "\n",
       "    .dataframe tbody tr th {\n",
       "        vertical-align: top;\n",
       "    }\n",
       "\n",
       "    .dataframe thead th {\n",
       "        text-align: right;\n",
       "    }\n",
       "</style>\n",
       "<table border=\"1\" class=\"dataframe\">\n",
       "  <thead>\n",
       "    <tr style=\"text-align: right;\">\n",
       "      <th></th>\n",
       "      <th>date</th>\n",
       "      <th>holiday</th>\n",
       "      <th>country</th>\n",
       "    </tr>\n",
       "  </thead>\n",
       "  <tbody>\n",
       "  </tbody>\n",
       "</table>\n",
       "</div>"
      ],
      "text/plain": [
       "Empty DataFrame\n",
       "Columns: [date, holiday, country]\n",
       "Index: []"
      ]
     },
     "execution_count": 31,
     "metadata": {},
     "output_type": "execute_result"
    }
   ],
   "source": [
    "# Create our empty dataframe\n",
    "c_holidays_final = pd.DataFrame(columns = [\"date\", \"holiday\", \"country\"])\n",
    "c_holidays_final"
   ]
  },
  {
   "cell_type": "code",
   "execution_count": 32,
   "id": "7c604b47",
   "metadata": {
    "ExecuteTime": {
     "end_time": "2021-04-15T15:30:21.745715Z",
     "start_time": "2021-04-15T15:30:21.697693Z"
    }
   },
   "outputs": [
    {
     "data": {
      "text/html": [
       "<div>\n",
       "<style scoped>\n",
       "    .dataframe tbody tr th:only-of-type {\n",
       "        vertical-align: middle;\n",
       "    }\n",
       "\n",
       "    .dataframe tbody tr th {\n",
       "        vertical-align: top;\n",
       "    }\n",
       "\n",
       "    .dataframe thead th {\n",
       "        text-align: right;\n",
       "    }\n",
       "</style>\n",
       "<table border=\"1\" class=\"dataframe\">\n",
       "  <thead>\n",
       "    <tr style=\"text-align: right;\">\n",
       "      <th></th>\n",
       "      <th>holiday</th>\n",
       "      <th>country</th>\n",
       "    </tr>\n",
       "    <tr>\n",
       "      <th>date</th>\n",
       "      <th></th>\n",
       "      <th></th>\n",
       "    </tr>\n",
       "  </thead>\n",
       "  <tbody>\n",
       "    <tr>\n",
       "      <th>2016-01-01</th>\n",
       "      <td>Neujahr</td>\n",
       "      <td>Germany</td>\n",
       "    </tr>\n",
       "    <tr>\n",
       "      <th>2016-03-25</th>\n",
       "      <td>Karfreitag</td>\n",
       "      <td>Germany</td>\n",
       "    </tr>\n",
       "    <tr>\n",
       "      <th>2016-03-28</th>\n",
       "      <td>Ostermontag</td>\n",
       "      <td>Germany</td>\n",
       "    </tr>\n",
       "    <tr>\n",
       "      <th>2016-05-01</th>\n",
       "      <td>Erster Mai</td>\n",
       "      <td>Germany</td>\n",
       "    </tr>\n",
       "    <tr>\n",
       "      <th>2016-05-05</th>\n",
       "      <td>Christi Himmelfahrt</td>\n",
       "      <td>Germany</td>\n",
       "    </tr>\n",
       "    <tr>\n",
       "      <th>...</th>\n",
       "      <td>...</td>\n",
       "      <td>...</td>\n",
       "    </tr>\n",
       "    <tr>\n",
       "      <th>2015-04-02</th>\n",
       "      <td>Skjærtorsdag</td>\n",
       "      <td>Norway</td>\n",
       "    </tr>\n",
       "    <tr>\n",
       "      <th>2015-04-03</th>\n",
       "      <td>Langfredag</td>\n",
       "      <td>Norway</td>\n",
       "    </tr>\n",
       "    <tr>\n",
       "      <th>2015-04-06</th>\n",
       "      <td>Andre påskedag</td>\n",
       "      <td>Norway</td>\n",
       "    </tr>\n",
       "    <tr>\n",
       "      <th>2015-05-14</th>\n",
       "      <td>Kristi himmelfartsdag</td>\n",
       "      <td>Norway</td>\n",
       "    </tr>\n",
       "    <tr>\n",
       "      <th>2015-05-25</th>\n",
       "      <td>Andre pinsedag</td>\n",
       "      <td>Norway</td>\n",
       "    </tr>\n",
       "  </tbody>\n",
       "</table>\n",
       "<p>1863 rows × 2 columns</p>\n",
       "</div>"
      ],
      "text/plain": [
       "                          holiday  country\n",
       "date                                      \n",
       "2016-01-01                Neujahr  Germany\n",
       "2016-03-25             Karfreitag  Germany\n",
       "2016-03-28            Ostermontag  Germany\n",
       "2016-05-01             Erster Mai  Germany\n",
       "2016-05-05    Christi Himmelfahrt  Germany\n",
       "...                           ...      ...\n",
       "2015-04-02           Skjærtorsdag   Norway\n",
       "2015-04-03             Langfredag   Norway\n",
       "2015-04-06         Andre påskedag   Norway\n",
       "2015-05-14  Kristi himmelfartsdag   Norway\n",
       "2015-05-25         Andre pinsedag   Norway\n",
       "\n",
       "[1863 rows x 2 columns]"
      ]
     },
     "execution_count": 32,
     "metadata": {},
     "output_type": "execute_result"
    }
   ],
   "source": [
    "for c in countries:\n",
    "    \n",
    "    df1= pd.DataFrame(holidays.CountryHoliday(c, years=years_list).items(), columns=[\"date\", \"holiday\"])\n",
    "    df1[\"country\"] = c\n",
    "    c_holidays_final = c_holidays_final.append(df1, ignore_index=True)\n",
    "    \n",
    "c_holidays_final.set_index(\"date\")"
   ]
  },
  {
   "cell_type": "code",
   "execution_count": 33,
   "id": "a2a56680",
   "metadata": {
    "ExecuteTime": {
     "end_time": "2021-04-15T15:30:22.586588Z",
     "start_time": "2021-04-15T15:30:22.530316Z"
    }
   },
   "outputs": [],
   "source": [
    "c_holidays_final.to_excel(r\"xxx.xlsx\", sheet_name=\"Bank Holidays\")"
   ]
  },
  {
   "cell_type": "code",
   "execution_count": null,
   "id": "4bec365b",
   "metadata": {},
   "outputs": [],
   "source": []
  }
 ],
 "metadata": {
  "hide_input": false,
  "kernelspec": {
   "display_name": "Python [conda env:root] *",
   "language": "python",
   "name": "conda-root-py"
  },
  "language_info": {
   "codemirror_mode": {
    "name": "ipython",
    "version": 3
   },
   "file_extension": ".py",
   "mimetype": "text/x-python",
   "name": "python",
   "nbconvert_exporter": "python",
   "pygments_lexer": "ipython3",
   "version": "3.7.8"
  }
 },
 "nbformat": 4,
 "nbformat_minor": 5
}
